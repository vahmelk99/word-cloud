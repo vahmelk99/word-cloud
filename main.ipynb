{
 "cells": [
  {
   "cell_type": "markdown",
   "metadata": {},
   "source": [
    "# Installation"
   ]
  },
  {
   "cell_type": "code",
   "execution_count": 6,
   "metadata": {},
   "outputs": [],
   "source": [
    "#%pip install wordcloud\n",
    "#%pip install nltk"
   ]
  },
  {
   "cell_type": "markdown",
   "metadata": {},
   "source": [
    "## Importing packages"
   ]
  },
  {
   "cell_type": "code",
   "execution_count": 28,
   "metadata": {},
   "outputs": [],
   "source": [
    "import wordcloud\n",
    "import nltk\n",
    "#for downloading packages from nlkt\n",
    "#nltk.download()\n",
    "\n",
    "from nltk.corpus import stopwords\n",
    "wordsToRemove = stopwords.words('english')"
   ]
  },
  {
   "cell_type": "code",
   "execution_count": 52,
   "metadata": {},
   "outputs": [],
   "source": [
    "def read(path):\n",
    "    \"\"\"read file and return result\"\"\"\n",
    "    f = open(path, \"r\")\n",
    "    res = f.read()\n",
    "    f.close() \n",
    "    return res\n",
    "\n",
    "def removePunctuation(text):\n",
    "    \"\"\"function removes punctuation marks\"\"\"\n",
    "    newText = \"\"\n",
    "    for char in text:\n",
    "        if char.isalpha() or char.isspace():\n",
    "            newText += char\n",
    "    return newText\n",
    "\n",
    "def removeNotInterestings(text, wordsToRemove):\n",
    "    res = []\n",
    "    for word in text.split():\n",
    "        if word.lower() not in wordsToRemove:\n",
    "            res.append(word.lower())\n",
    "    return res"
   ]
  },
  {
   "cell_type": "code",
   "execution_count": 53,
   "metadata": {},
   "outputs": [],
   "source": [
    "text = removePunctuation(read('buddha.txt'))\n",
    "textArray = removeNotInterestings(text, wordsToRemove)"
   ]
  },
  {
   "cell_type": "markdown",
   "metadata": {},
   "source": [
    "## Word frequency"
   ]
  },
  {
   "cell_type": "code",
   "execution_count": 56,
   "metadata": {},
   "outputs": [],
   "source": [
    "# count in text\n",
    "# sorting\n",
    "# making dict\n",
    "fianlFreq = dict(sorted([[x, textArray.count(x)] for x in textArray], key=lambda item: item[1], reverse=True))"
   ]
  },
  {
   "cell_type": "markdown",
   "metadata": {},
   "source": [
    "## Generating cloud picture from words"
   ]
  },
  {
   "cell_type": "code",
   "execution_count": 58,
   "metadata": {},
   "outputs": [
    {
     "data": {
      "text/plain": [
       "<wordcloud.wordcloud.WordCloud at 0x7faa2a1f07f0>"
      ]
     },
     "execution_count": 58,
     "metadata": {},
     "output_type": "execute_result"
    }
   ],
   "source": [
    "cloud = wordcloud.WordCloud()\n",
    "cloud.generate_from_frequencies(fianlFreq)\n",
    "cloud.to_file(\"buddhaWords.jpg\")"
   ]
  }
 ],
 "metadata": {
  "interpreter": {
   "hash": "31f2aee4e71d21fbe5cf8b01ff0e069b9275f58929596ceb00d14d90e3e16cd6"
  },
  "kernelspec": {
   "display_name": "Python 3",
   "language": "python",
   "name": "python3"
  },
  "language_info": {
   "codemirror_mode": {
    "name": "ipython",
    "version": 3
   },
   "file_extension": ".py",
   "mimetype": "text/x-python",
   "name": "python",
   "nbconvert_exporter": "python",
   "pygments_lexer": "ipython3",
   "version": "3.6.9"
  }
 },
 "nbformat": 4,
 "nbformat_minor": 4
}
